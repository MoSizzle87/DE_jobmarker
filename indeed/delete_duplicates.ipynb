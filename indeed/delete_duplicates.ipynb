{
 "cells": [
  {
   "cell_type": "code",
   "execution_count": 1,
   "id": "initial_id",
   "metadata": {
    "collapsed": true,
    "ExecuteTime": {
     "end_time": "2024-03-12T11:27:15.530633Z",
     "start_time": "2024-03-12T11:27:14.229611Z"
    }
   },
   "outputs": [],
   "source": [
    "import pandas as pd\n",
    "import json"
   ]
  },
  {
   "cell_type": "code",
   "outputs": [],
   "source": [
    "with open('indeed_db_v4.json', 'r', encoding='utf-8') as file:\n",
    "    data = json.load(file)\n"
   ],
   "metadata": {
    "collapsed": false,
    "ExecuteTime": {
     "end_time": "2024-03-12T11:27:48.060869Z",
     "start_time": "2024-03-12T11:27:47.714578Z"
    }
   },
   "id": "e50dcf1d2ed06fb2",
   "execution_count": 2
  },
  {
   "cell_type": "code",
   "outputs": [],
   "source": [
    "# Utiliser json_normalize pour créer un DataFrame en formatant le fichier\n",
    "df = pd.json_normalize(data)"
   ],
   "metadata": {
    "collapsed": false,
    "ExecuteTime": {
     "end_time": "2024-03-12T11:27:53.514939Z",
     "start_time": "2024-03-12T11:27:53.391929Z"
    }
   },
   "id": "32ab71cc025b998c",
   "execution_count": 3
  },
  {
   "cell_type": "code",
   "outputs": [],
   "source": [
    "# Appliquez la fonction à chaque élément de chaque colonne\n",
    "df = df.apply(lambda x: x.map(lambda y: ','.join(map(str, y)) if isinstance(y, list) else y))"
   ],
   "metadata": {
    "collapsed": false,
    "ExecuteTime": {
     "end_time": "2024-03-12T11:28:05.314431Z",
     "start_time": "2024-03-12T11:28:05.230832Z"
    }
   },
   "id": "ee3eaeb1e2b64a15",
   "execution_count": 4
  },
  {
   "cell_type": "code",
   "outputs": [
    {
     "name": "stdout",
     "output_type": "stream",
     "text": [
      "<class 'pandas.core.frame.DataFrame'>\n",
      "RangeIndex: 19657 entries, 0 to 19656\n",
      "Data columns (total 29 columns):\n",
      " #   Column                           Non-Null Count  Dtype \n",
      "---  ------                           --------------  ----- \n",
      " 0   job_title                        19570 non-null  object\n",
      " 1   company                          19570 non-null  object\n",
      " 2   job_location                     19311 non-null  object\n",
      " 3   zip_code                         7613 non-null   object\n",
      " 4   salary                           4446 non-null   object\n",
      " 5   contract_type                    13699 non-null  object\n",
      " 6   remote                           3775 non-null   object\n",
      " 7   raw_description                  19570 non-null  object\n",
      " 8   Langages de Programmation        9115 non-null   object\n",
      " 9   Bases de Données                 2743 non-null   object\n",
      " 10  Analyse de Données               1196 non-null   object\n",
      " 11  Big Data                         2465 non-null   object\n",
      " 12  Machine Learning et Data Mining  924 non-null    object\n",
      " 13  Visualisation de Données         2732 non-null   object\n",
      " 14  Statistiques                     52 non-null     object\n",
      " 15  Cloud Computing                  6482 non-null   object\n",
      " 16  Outils de Développement          10073 non-null  object\n",
      " 17  Systèmes d'Exploitation          1975 non-null   object\n",
      " 18  Big Data et Processing           333 non-null    object\n",
      " 19  Automatisation et Orchestration  4804 non-null   object\n",
      " 20  Infrastructure as Code (IaC)     1558 non-null   object\n",
      " 21  Sécurité et Réseau               470 non-null    object\n",
      " 22  Virtualisation                   398 non-null    object\n",
      " 23  Containers                       3150 non-null   object\n",
      " 24  Outils de Collaboration          3588 non-null   object\n",
      " 25  Compétences                      12831 non-null  object\n",
      " 26  company_size                     2071 non-null   object\n",
      " 27  company_turnover                 1472 non-null   object\n",
      " 28  company_industry                 2869 non-null   object\n",
      "dtypes: object(29)\n",
      "memory usage: 4.3+ MB\n"
     ]
    }
   ],
   "source": [
    "df.info()"
   ],
   "metadata": {
    "collapsed": false,
    "ExecuteTime": {
     "end_time": "2024-03-12T11:28:10.266953Z",
     "start_time": "2024-03-12T11:28:10.248639Z"
    }
   },
   "id": "80f917e4110c0e65",
   "execution_count": 5
  },
  {
   "cell_type": "code",
   "outputs": [],
   "source": [
    "df_no_duplicates = df[~df.duplicated()]"
   ],
   "metadata": {
    "collapsed": false,
    "ExecuteTime": {
     "end_time": "2024-03-12T11:29:06.960995Z",
     "start_time": "2024-03-12T11:29:06.881243Z"
    }
   },
   "id": "614d4fd63bf8b51e",
   "execution_count": 6
  },
  {
   "cell_type": "code",
   "outputs": [
    {
     "name": "stdout",
     "output_type": "stream",
     "text": [
      "<class 'pandas.core.frame.DataFrame'>\n",
      "Index: 11910 entries, 0 to 19633\n",
      "Data columns (total 29 columns):\n",
      " #   Column                           Non-Null Count  Dtype \n",
      "---  ------                           --------------  ----- \n",
      " 0   job_title                        11909 non-null  object\n",
      " 1   company                          11909 non-null  object\n",
      " 2   job_location                     11747 non-null  object\n",
      " 3   zip_code                         4524 non-null   object\n",
      " 4   salary                           2792 non-null   object\n",
      " 5   contract_type                    8470 non-null   object\n",
      " 6   remote                           2223 non-null   object\n",
      " 7   raw_description                  11909 non-null  object\n",
      " 8   Langages de Programmation        5017 non-null   object\n",
      " 9   Bases de Données                 1408 non-null   object\n",
      " 10  Analyse de Données               643 non-null    object\n",
      " 11  Big Data                         1108 non-null   object\n",
      " 12  Machine Learning et Data Mining  508 non-null    object\n",
      " 13  Visualisation de Données         1398 non-null   object\n",
      " 14  Statistiques                     16 non-null     object\n",
      " 15  Cloud Computing                  3319 non-null   object\n",
      " 16  Outils de Développement          5835 non-null   object\n",
      " 17  Systèmes d'Exploitation          1188 non-null   object\n",
      " 18  Big Data et Processing           144 non-null    object\n",
      " 19  Automatisation et Orchestration  2779 non-null   object\n",
      " 20  Infrastructure as Code (IaC)     818 non-null    object\n",
      " 21  Sécurité et Réseau               291 non-null    object\n",
      " 22  Virtualisation                   261 non-null    object\n",
      " 23  Containers                       1672 non-null   object\n",
      " 24  Outils de Collaboration          2031 non-null   object\n",
      " 25  Compétences                      6986 non-null   object\n",
      " 26  company_size                     1750 non-null   object\n",
      " 27  company_turnover                 1225 non-null   object\n",
      " 28  company_industry                 2405 non-null   object\n",
      "dtypes: object(29)\n",
      "memory usage: 2.7+ MB\n"
     ]
    }
   ],
   "source": [
    "df_no_duplicates.info()"
   ],
   "metadata": {
    "collapsed": false,
    "ExecuteTime": {
     "end_time": "2024-03-12T11:29:10.968808Z",
     "start_time": "2024-03-12T11:29:10.955368Z"
    }
   },
   "id": "4bc30f99e47eca1f",
   "execution_count": 7
  },
  {
   "cell_type": "code",
   "outputs": [],
   "source": [
    "df_no_duplicates.to_json('indeed_final_db_bronze_v4.json', orient='records', lines=True)"
   ],
   "metadata": {
    "collapsed": false,
    "ExecuteTime": {
     "end_time": "2024-03-12T11:29:56.642946Z",
     "start_time": "2024-03-12T11:29:56.334247Z"
    }
   },
   "id": "c33b4654cfc20c2a",
   "execution_count": 8
  },
  {
   "cell_type": "code",
   "outputs": [
    {
     "data": {
      "text/plain": "                                               job_title          company  \\\n0                                    Data Engineer MLOps  Blue-Consulting   \n1                                    Data Engineer (F/H)         AFD.TECH   \n2                                    Data Engineer - H/F            Yotta   \n3                                          Data Engineer    FC Consulting   \n4                                      Data Engineer F/H             Oney   \n...                                                  ...              ...   \n19652                                    QA Engineer H/F         Jcdecaux   \n19653        Global infrastructure Security Engineer H/F           Imerys   \n19654                                       Data Analyst    Pernod Ricard   \n19655                      EMEA Start up Venture Capital           Oracle   \n19656  Designated CSE (Customer Solution Engineer) - ...          Scality   \n\n            job_location zip_code salary contract_type remote  \\\n0                  Paris     None   None          None   None   \n1                  Paris     None   None          None   None   \n2                  Paris     None   None          None   None   \n3               Nanterre    92000   None          None   None   \n4                  Croix     None   None          None   None   \n...                  ...      ...    ...           ...    ...   \n19652  Neuilly-sur-Seine    92200   None          None   None   \n19653              Paris    75015   None          None   None   \n19654              Paris    75380   None          None   None   \n19655           Colombes    92715   None          None   None   \n19656             Rennes     None   None          None   None   \n\n                                         raw_description  \\\n0      Au sein des équipes data de notre client, vous...   \n1      Nous vous proposons un poste de Data Engineer ...   \n2      Azure-cloud-services / Git / Microsoft-azure /...   \n3      Mission d?assistance technique afin de fournir...   \n4      Qui sommes-nous ?\\n\\nOney est une banque diffé...   \n...                                                  ...   \n19652  Mission\\n\\nLe profil sera rattaché à la Direct...   \n19653  The Company\\n\\nThe world’s leading supplier of...   \n19654  Context around the position:\\nPernod-Ricard is...   \n19655  You and Oracle\\n\\nOracle Corporation is at one...   \n19656  You are technical and customer focused, you se...   \n\n      Langages de Programmation  Bases de Données  ...  \\\n0                  Python,Scala          BigQuery  ...   \n1                          None              None  ...   \n2                        Python              None  ...   \n3                        Python              None  ...   \n4                        Python         Snowflake  ...   \n...                         ...               ...  ...   \n19652                      Java  MySQL,PostgreSQL  ...   \n19653                      None              None  ...   \n19654                    Python         Snowflake  ...   \n19655                      None              None  ...   \n19656              Python,Scala              None  ...   \n\n      Automatisation et Orchestration Infrastructure as Code (IaC)  \\\n0          Ansible,Kubernetes,Airflow                    Terraform   \n1                                None                         None   \n2                                None                         None   \n3                             Ansible                         None   \n4                                None                         None   \n...                               ...                          ...   \n19652                            None                         None   \n19653                            None                         None   \n19654                            None                         None   \n19655                            None                         None   \n19656              Ansible,Kubernetes                         None   \n\n      Sécurité et Réseau Virtualisation         Containers  \\\n0                   None           None  Docker,Kubernetes   \n1                   None           None               None   \n2                   None           None               None   \n3                   None           None               None   \n4                   None           None               None   \n...                  ...            ...                ...   \n19652               None           None               None   \n19653           Firewall           None               None   \n19654               None           None               None   \n19655               None           None               None   \n19656               None           None  Docker,Kubernetes   \n\n      Outils de Collaboration                Compétences company_size  \\\n0                        None  ML,Machine Learning,Cloud         None   \n1                        None                      Cloud         None   \n2                        None             Big Data,Cloud         None   \n3                        None                       None         None   \n4                        None             Big Data,Cloud     51 à 200   \n...                       ...                        ...          ...   \n19652                    JIRA                   ML,Cloud         None   \n19653                   Teams                      Cloud         None   \n19654   JIRA,Confluence,Teams     Machine Learning,Cloud         None   \n19655                   Teams  ML,Machine Learning,Cloud         None   \n19656   JIRA,Confluence,Teams                      Cloud         None   \n\n      company_turnover                       company_industry  \n0                 None  Management et conseil aux entreprises  \n1                 None                     Télécommunications  \n2                 None                                   None  \n3                 None                                   None  \n4                 None                                Finance  \n...                ...                                    ...  \n19652             None                                   None  \n19653             None                                   None  \n19654             None                                   None  \n19655             None                                   None  \n19656             None                                   None  \n\n[19657 rows x 29 columns]",
      "text/html": "<div>\n<style scoped>\n    .dataframe tbody tr th:only-of-type {\n        vertical-align: middle;\n    }\n\n    .dataframe tbody tr th {\n        vertical-align: top;\n    }\n\n    .dataframe thead th {\n        text-align: right;\n    }\n</style>\n<table border=\"1\" class=\"dataframe\">\n  <thead>\n    <tr style=\"text-align: right;\">\n      <th></th>\n      <th>job_title</th>\n      <th>company</th>\n      <th>job_location</th>\n      <th>zip_code</th>\n      <th>salary</th>\n      <th>contract_type</th>\n      <th>remote</th>\n      <th>raw_description</th>\n      <th>Langages de Programmation</th>\n      <th>Bases de Données</th>\n      <th>...</th>\n      <th>Automatisation et Orchestration</th>\n      <th>Infrastructure as Code (IaC)</th>\n      <th>Sécurité et Réseau</th>\n      <th>Virtualisation</th>\n      <th>Containers</th>\n      <th>Outils de Collaboration</th>\n      <th>Compétences</th>\n      <th>company_size</th>\n      <th>company_turnover</th>\n      <th>company_industry</th>\n    </tr>\n  </thead>\n  <tbody>\n    <tr>\n      <th>0</th>\n      <td>Data Engineer MLOps</td>\n      <td>Blue-Consulting</td>\n      <td>Paris</td>\n      <td>None</td>\n      <td>None</td>\n      <td>None</td>\n      <td>None</td>\n      <td>Au sein des équipes data de notre client, vous...</td>\n      <td>Python,Scala</td>\n      <td>BigQuery</td>\n      <td>...</td>\n      <td>Ansible,Kubernetes,Airflow</td>\n      <td>Terraform</td>\n      <td>None</td>\n      <td>None</td>\n      <td>Docker,Kubernetes</td>\n      <td>None</td>\n      <td>ML,Machine Learning,Cloud</td>\n      <td>None</td>\n      <td>None</td>\n      <td>Management et conseil aux entreprises</td>\n    </tr>\n    <tr>\n      <th>1</th>\n      <td>Data Engineer (F/H)</td>\n      <td>AFD.TECH</td>\n      <td>Paris</td>\n      <td>None</td>\n      <td>None</td>\n      <td>None</td>\n      <td>None</td>\n      <td>Nous vous proposons un poste de Data Engineer ...</td>\n      <td>None</td>\n      <td>None</td>\n      <td>...</td>\n      <td>None</td>\n      <td>None</td>\n      <td>None</td>\n      <td>None</td>\n      <td>None</td>\n      <td>None</td>\n      <td>Cloud</td>\n      <td>None</td>\n      <td>None</td>\n      <td>Télécommunications</td>\n    </tr>\n    <tr>\n      <th>2</th>\n      <td>Data Engineer - H/F</td>\n      <td>Yotta</td>\n      <td>Paris</td>\n      <td>None</td>\n      <td>None</td>\n      <td>None</td>\n      <td>None</td>\n      <td>Azure-cloud-services / Git / Microsoft-azure /...</td>\n      <td>Python</td>\n      <td>None</td>\n      <td>...</td>\n      <td>None</td>\n      <td>None</td>\n      <td>None</td>\n      <td>None</td>\n      <td>None</td>\n      <td>None</td>\n      <td>Big Data,Cloud</td>\n      <td>None</td>\n      <td>None</td>\n      <td>None</td>\n    </tr>\n    <tr>\n      <th>3</th>\n      <td>Data Engineer</td>\n      <td>FC Consulting</td>\n      <td>Nanterre</td>\n      <td>92000</td>\n      <td>None</td>\n      <td>None</td>\n      <td>None</td>\n      <td>Mission d?assistance technique afin de fournir...</td>\n      <td>Python</td>\n      <td>None</td>\n      <td>...</td>\n      <td>Ansible</td>\n      <td>None</td>\n      <td>None</td>\n      <td>None</td>\n      <td>None</td>\n      <td>None</td>\n      <td>None</td>\n      <td>None</td>\n      <td>None</td>\n      <td>None</td>\n    </tr>\n    <tr>\n      <th>4</th>\n      <td>Data Engineer F/H</td>\n      <td>Oney</td>\n      <td>Croix</td>\n      <td>None</td>\n      <td>None</td>\n      <td>None</td>\n      <td>None</td>\n      <td>Qui sommes-nous ?\\n\\nOney est une banque diffé...</td>\n      <td>Python</td>\n      <td>Snowflake</td>\n      <td>...</td>\n      <td>None</td>\n      <td>None</td>\n      <td>None</td>\n      <td>None</td>\n      <td>None</td>\n      <td>None</td>\n      <td>Big Data,Cloud</td>\n      <td>51 à 200</td>\n      <td>None</td>\n      <td>Finance</td>\n    </tr>\n    <tr>\n      <th>...</th>\n      <td>...</td>\n      <td>...</td>\n      <td>...</td>\n      <td>...</td>\n      <td>...</td>\n      <td>...</td>\n      <td>...</td>\n      <td>...</td>\n      <td>...</td>\n      <td>...</td>\n      <td>...</td>\n      <td>...</td>\n      <td>...</td>\n      <td>...</td>\n      <td>...</td>\n      <td>...</td>\n      <td>...</td>\n      <td>...</td>\n      <td>...</td>\n      <td>...</td>\n      <td>...</td>\n    </tr>\n    <tr>\n      <th>19652</th>\n      <td>QA Engineer H/F</td>\n      <td>Jcdecaux</td>\n      <td>Neuilly-sur-Seine</td>\n      <td>92200</td>\n      <td>None</td>\n      <td>None</td>\n      <td>None</td>\n      <td>Mission\\n\\nLe profil sera rattaché à la Direct...</td>\n      <td>Java</td>\n      <td>MySQL,PostgreSQL</td>\n      <td>...</td>\n      <td>None</td>\n      <td>None</td>\n      <td>None</td>\n      <td>None</td>\n      <td>None</td>\n      <td>JIRA</td>\n      <td>ML,Cloud</td>\n      <td>None</td>\n      <td>None</td>\n      <td>None</td>\n    </tr>\n    <tr>\n      <th>19653</th>\n      <td>Global infrastructure Security Engineer H/F</td>\n      <td>Imerys</td>\n      <td>Paris</td>\n      <td>75015</td>\n      <td>None</td>\n      <td>None</td>\n      <td>None</td>\n      <td>The Company\\n\\nThe world’s leading supplier of...</td>\n      <td>None</td>\n      <td>None</td>\n      <td>...</td>\n      <td>None</td>\n      <td>None</td>\n      <td>Firewall</td>\n      <td>None</td>\n      <td>None</td>\n      <td>Teams</td>\n      <td>Cloud</td>\n      <td>None</td>\n      <td>None</td>\n      <td>None</td>\n    </tr>\n    <tr>\n      <th>19654</th>\n      <td>Data Analyst</td>\n      <td>Pernod Ricard</td>\n      <td>Paris</td>\n      <td>75380</td>\n      <td>None</td>\n      <td>None</td>\n      <td>None</td>\n      <td>Context around the position:\\nPernod-Ricard is...</td>\n      <td>Python</td>\n      <td>Snowflake</td>\n      <td>...</td>\n      <td>None</td>\n      <td>None</td>\n      <td>None</td>\n      <td>None</td>\n      <td>None</td>\n      <td>JIRA,Confluence,Teams</td>\n      <td>Machine Learning,Cloud</td>\n      <td>None</td>\n      <td>None</td>\n      <td>None</td>\n    </tr>\n    <tr>\n      <th>19655</th>\n      <td>EMEA Start up Venture Capital</td>\n      <td>Oracle</td>\n      <td>Colombes</td>\n      <td>92715</td>\n      <td>None</td>\n      <td>None</td>\n      <td>None</td>\n      <td>You and Oracle\\n\\nOracle Corporation is at one...</td>\n      <td>None</td>\n      <td>None</td>\n      <td>...</td>\n      <td>None</td>\n      <td>None</td>\n      <td>None</td>\n      <td>None</td>\n      <td>None</td>\n      <td>Teams</td>\n      <td>ML,Machine Learning,Cloud</td>\n      <td>None</td>\n      <td>None</td>\n      <td>None</td>\n    </tr>\n    <tr>\n      <th>19656</th>\n      <td>Designated CSE (Customer Solution Engineer) - ...</td>\n      <td>Scality</td>\n      <td>Rennes</td>\n      <td>None</td>\n      <td>None</td>\n      <td>None</td>\n      <td>None</td>\n      <td>You are technical and customer focused, you se...</td>\n      <td>Python,Scala</td>\n      <td>None</td>\n      <td>...</td>\n      <td>Ansible,Kubernetes</td>\n      <td>None</td>\n      <td>None</td>\n      <td>None</td>\n      <td>Docker,Kubernetes</td>\n      <td>JIRA,Confluence,Teams</td>\n      <td>Cloud</td>\n      <td>None</td>\n      <td>None</td>\n      <td>None</td>\n    </tr>\n  </tbody>\n</table>\n<p>19657 rows × 29 columns</p>\n</div>"
     },
     "execution_count": 11,
     "metadata": {},
     "output_type": "execute_result"
    }
   ],
   "source": [
    "df"
   ],
   "metadata": {
    "collapsed": false,
    "ExecuteTime": {
     "end_time": "2024-03-10T09:50:17.717926Z",
     "start_time": "2024-03-10T09:50:17.696543Z"
    }
   },
   "id": "3cd6cbb0e175c384",
   "execution_count": 11
  }
 ],
 "metadata": {
  "kernelspec": {
   "display_name": "Python 3",
   "language": "python",
   "name": "python3"
  },
  "language_info": {
   "codemirror_mode": {
    "name": "ipython",
    "version": 2
   },
   "file_extension": ".py",
   "mimetype": "text/x-python",
   "name": "python",
   "nbconvert_exporter": "python",
   "pygments_lexer": "ipython2",
   "version": "2.7.6"
  }
 },
 "nbformat": 4,
 "nbformat_minor": 5
}
